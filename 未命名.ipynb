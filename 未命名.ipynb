{
 "cells": [
  {
   "cell_type": "code",
   "execution_count": 1,
   "metadata": {
    "pycharm": {
     "is_executing": false
    }
   },
   "outputs": [],
   "source": [
    "# %%\n",
    "\n",
    "import numpy as np  # linear algebra\n",
    "import pandas as pd  # data processing, CSV file I/O (e.g. pd.read_csv)\n",
    "from sklearn import feature_extraction, linear_model, model_selection, preprocessing\n",
    "from sklearn.linear_model import Ridge\n",
    "import pandas as pd\n",
    "from sklearn.linear_model import LinearRegression\n",
    "import numpy as np\n",
    "from sklearn.preprocessing import OneHotEncoder\n",
    "from sklearn.model_selection import train_test_split\n",
    "from sklearn.neighbors import KNeighborsClassifier\n",
    "from sklearn.svm import LinearSVC\n",
    "from sklearn.neural_network import MLPClassifier\n",
    "from sklearn.ensemble import RandomForestClassifier\n",
    "from sklearn.ensemble import GradientBoostingClassifier\n",
    "import seaborn as sns\n",
    "from sklearn.model_selection import GridSearchCV\n",
    "from sklearn.model_selection import cross_val_score\n",
    "from sklearn.ensemble import AdaBoostClassifier\n",
    "import matplotlib.pyplot as plt \n",
    "# %%\n",
    "\n",
    "from sklearn.metrics import accuracy_score\n"
   ]
  },
  {
   "cell_type": "code",
   "execution_count": 2,
   "metadata": {
    "pycharm": {
     "is_executing": false
    }
   },
   "outputs": [],
   "source": [
    "\n",
    "## Read csvs\n",
    "train_df = pd.read_csv('youtube-new/USvideos.csv', index_col=0)\n",
    "\n",
    "# %%\n",
    "\n",
    "## Handle missing values\n",
    "train_df.fillna('NA', inplace=True)\n",
    "\n",
    "data_X = train_df[['trending_date', 'title', 'channel_title',\n",
    "                   'category_id', 'publish_time', 'tags', 'likes',\n",
    "                   'dislikes', 'comment_count', 'thumbnail_link', 'comments_disabled',\n",
    "                   'ratings_disabled', 'video_error_or_removed', 'description']]\n",
    "\n",
    "data_y = train_df[['views']]\n",
    "# %%\n",
    "\n",
    "## Filtering column \"mail_type\"\n",
    "X_train, X_test, y_train, y_test = train_test_split(data_X, data_y, train_size=0.9)\n",
    "# sns.distplot(int(train_df['mail_type']), kde=False)\n",
    "\n",
    "tags = X_train['tags']\n",
    "tags_test = X_test['tags']"
   ]
  },
  {
   "cell_type": "code",
   "execution_count": 3,
   "metadata": {
    "pycharm": {
     "is_executing": false
    }
   },
   "outputs": [
    {
     "name": "stdout",
     "text": [
      "1\n"
     ],
     "output_type": "stream"
    }
   ],
   "source": [
    "print(1)\n"
   ]
  },
  {
   "cell_type": "code",
   "execution_count": 5,
   "metadata": {
    "pycharm": {
     "is_executing": false
    }
   },
   "outputs": [
    {
     "name": "stdout",
     "text": [
      "0.6168839412310023\n",
      "1\n"
     ],
     "output_type": "stream"
    }
   ],
   "source": [
    "\n",
    "count_vectorizer = feature_extraction.text.CountVectorizer(stop_words=\"english\")\n",
    "\n",
    "## let's get counts for the first 5 tweets in the data\n",
    "example_train_vectors = count_vectorizer.fit_transform(tags)\n",
    "\n",
    "train_vectors = count_vectorizer.transform(tags)\n",
    "test_vectors = count_vectorizer.transform(tags_test)\n"
   ]
  },
  {
   "cell_type": "code",
   "execution_count": null,
   "outputs": [],
   "source": [
    "reg = LinearRegression().fit(train_vectors, y_train)\n",
    "\n",
    "result = reg.predict(test_vectors)\n",
    "\n",
    "print(reg.score(test_vectors, y_test))\n",
    "\n",
    "result_df = pd.DataFrame(result, columns=['views'])\n",
    "result_df.to_csv(\"predict.csv\", index=True)\n",
    "\n",
    "y_test_df = pd.DataFrame(y_test, columns=['views'])\n",
    "y_test_df.to_csv(\"test.csv\", index=True)\n",
    "\n",
    "\n",
    "# print(tags)\n",
    "# print(len(tags))\n",
    "#\n",
    "# print(example_train_vectors[0].todense().shape)\n",
    "# print(example_train_vectors[0].todense())\n",
    "print(1)"
   ],
   "metadata": {
    "collapsed": false,
    "pycharm": {
     "name": "#%%\n"
    }
   }
  },
  {
   "cell_type": "code",
   "execution_count": 14,
   "metadata": {
    "pycharm": {
     "is_executing": false
    }
   },
   "outputs": [
    {
     "name": "stdout",
     "text": [
      "  (0, 218)\t1\n",
      "  (0, 1535)\t1\n",
      "  (0, 2838)\t1\n",
      "  (0, 4329)\t1\n",
      "  (0, 6546)\t1\n",
      "  (0, 7916)\t1\n",
      "  (0, 9543)\t1\n",
      "  (0, 9652)\t1\n",
      "  (0, 10056)\t1\n",
      "  (0, 10711)\t1\n",
      "  (0, 10782)\t1\n",
      "  (0, 10816)\t1\n",
      "  (0, 10936)\t1\n",
      "  (0, 10945)\t1\n",
      "  (0, 11088)\t1\n",
      "  (0, 11419)\t1\n",
      "  (0, 11517)\t1\n",
      "  (0, 13071)\t3\n",
      "  (0, 13213)\t3\n",
      "  (0, 13949)\t2\n",
      "  (0, 14066)\t1\n",
      "  (0, 14132)\t1\n",
      "  (0, 14439)\t1\n",
      "  (0, 14481)\t1\n",
      "  (0, 14978)\t1\n",
      "  (0, 16011)\t1\n",
      "  (0, 16019)\t1\n",
      "  (0, 16386)\t1\n",
      "  (0, 16738)\t1\n",
      "  (0, 17596)\t2\n",
      "  (0, 17704)\t1\n",
      "  (0, 17980)\t3\n",
      "  (0, 18677)\t1\n",
      "  (0, 19099)\t1\n",
      "  (0, 19334)\t1\n",
      "  (0, 19351)\t1\n",
      "  (0, 19810)\t1\n",
      "  (0, 20006)\t1\n",
      "  (0, 20863)\t1\n",
      "  (0, 21006)\t1\n",
      "  (0, 21101)\t1\n",
      "  (0, 21817)\t1\n",
      "  (0, 22218)\t1\n",
      "1\n",
      "23116\n"
     ],
     "output_type": "stream"
    },
    {
     "traceback": [
      "\u001b[0;31m---------------------------------------------------------------------------\u001b[0m",
      "\u001b[0;31mTypeError\u001b[0m                                 Traceback (most recent call last)",
      "\u001b[0;32m<ipython-input-14-ba84a6626449>\u001b[0m in \u001b[0;36m<module>\u001b[0;34m\u001b[0m\n\u001b[1;32m      9\u001b[0m \u001b[0mprint\u001b[0m\u001b[0;34m(\u001b[0m\u001b[0;36m1\u001b[0m\u001b[0;34m)\u001b[0m\u001b[0;34m\u001b[0m\u001b[0;34m\u001b[0m\u001b[0m\n\u001b[1;32m     10\u001b[0m \u001b[0mprint\u001b[0m\u001b[0;34m(\u001b[0m\u001b[0mlen\u001b[0m\u001b[0;34m(\u001b[0m\u001b[0mtags_code\u001b[0m\u001b[0;34m)\u001b[0m\u001b[0;34m)\u001b[0m\u001b[0;34m\u001b[0m\u001b[0;34m\u001b[0m\u001b[0m\n\u001b[0;32m---> 11\u001b[0;31m \u001b[0mprint\u001b[0m\u001b[0;34m(\u001b[0m\u001b[0mlen\u001b[0m\u001b[0;34m(\u001b[0m\u001b[0mtrain_vectors\u001b[0m\u001b[0;34m[\u001b[0m\u001b[0;36m0\u001b[0m\u001b[0;34m]\u001b[0m\u001b[0;34m)\u001b[0m\u001b[0;34m)\u001b[0m\u001b[0;34m\u001b[0m\u001b[0;34m\u001b[0m\u001b[0m\n\u001b[0m\u001b[1;32m     12\u001b[0m \u001b[0msns\u001b[0m\u001b[0;34m.\u001b[0m\u001b[0mbarplot\u001b[0m\u001b[0;34m(\u001b[0m\u001b[0mx\u001b[0m\u001b[0;34m=\u001b[0m\u001b[0mtags_code\u001b[0m\u001b[0;34m,\u001b[0m \u001b[0my\u001b[0m\u001b[0;34m=\u001b[0m\u001b[0mtags_code\u001b[0m\u001b[0;34m)\u001b[0m\u001b[0;34m\u001b[0m\u001b[0;34m\u001b[0m\u001b[0m\n\u001b[1;32m     13\u001b[0m \u001b[0;34m\u001b[0m\u001b[0m\n",
      "\u001b[0;32m/usr/local/lib/python3.7/site-packages/scipy/sparse/base.py\u001b[0m in \u001b[0;36m__len__\u001b[0;34m(self)\u001b[0m\n\u001b[1;32m    293\u001b[0m     \u001b[0;31m# non-zeros is more important.  For now, raise an exception!\u001b[0m\u001b[0;34m\u001b[0m\u001b[0;34m\u001b[0m\u001b[0;34m\u001b[0m\u001b[0m\n\u001b[1;32m    294\u001b[0m     \u001b[0;32mdef\u001b[0m \u001b[0m__len__\u001b[0m\u001b[0;34m(\u001b[0m\u001b[0mself\u001b[0m\u001b[0;34m)\u001b[0m\u001b[0;34m:\u001b[0m\u001b[0;34m\u001b[0m\u001b[0;34m\u001b[0m\u001b[0m\n\u001b[0;32m--> 295\u001b[0;31m         raise TypeError(\"sparse matrix length is ambiguous; use getnnz()\"\n\u001b[0m\u001b[1;32m    296\u001b[0m                         \" or shape[0]\")\n\u001b[1;32m    297\u001b[0m \u001b[0;34m\u001b[0m\u001b[0m\n",
      "\u001b[0;31mTypeError\u001b[0m: sparse matrix length is ambiguous; use getnnz() or shape[0]"
     ],
     "ename": "TypeError",
     "evalue": "sparse matrix length is ambiguous; use getnnz() or shape[0]",
     "output_type": "error"
    },
    {
     "data": {
      "text/plain": "<Figure size 720x432 with 1 Axes>",
      "image/png": "[encoded data removed]"
     },
     "metadata": {
      "needs_background": "light"
     },
     "output_type": "display_data"
    }
   ],
   "source": [
    "\n",
    "plt.figure(figsize=(10,6))\n",
    "\n",
    "# Add title\n",
    "plt.title(\"Average Arrival Delay for Spirit Airlines Flights, by Month\")\n",
    "\n",
    "tags_code = np.linspace(1,23116,23116,endpoint=True)\n",
    "# Bar chart showing average arrival delay for Spirit Airlines flights by month\n",
    "print(train_vectors[0])\n",
    "print(len(tags_code))\n",
    "print(len(train_vectors[0]))\n",
    "sns.barplot(x=tags_code, y=tags_code)\n",
    "\n",
    "# Add label for vertical axis\n",
    "plt.ylabel(\"if it has tags\")\n",
    "# print(example_train_vectors[0].todense())\n",
    "print(example_train_vectors[0].todense().shape)\n",
    "print(tags_code.shape)"
   ]
  },
  {
   "cell_type": "code",
   "execution_count": null,
   "metadata": {},
   "outputs": [],
   "source": []
  }
 ],
 "metadata": {
  "kernelspec": {
   "display_name": "Python 3",
   "language": "python",
   "name": "python3"
  },
  "language_info": {
   "codemirror_mode": {
    "name": "ipython",
    "version": 3
   },
   "file_extension": ".py",
   "mimetype": "text/x-python",
   "name": "python",
   "nbconvert_exporter": "python",
   "pygments_lexer": "ipython3",
   "version": "3.7.3"
  },
  "pycharm": {
   "stem_cell": {
    "cell_type": "raw",
    "source": [],
    "metadata": {
     "collapsed": false
    }
   }
  }
 },
 "nbformat": 4,
 "nbformat_minor": 2
}